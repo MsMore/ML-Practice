{
 "cells": [
  {
   "cell_type": "code",
   "execution_count": 1,
   "metadata": {},
   "outputs": [],
   "source": [
    "import os\n",
    "data_path = ['data']"
   ]
  },
  {
   "cell_type": "code",
   "execution_count": 2,
   "metadata": {},
   "outputs": [],
   "source": [
    "\n",
    "import numpy as np\n",
    "import pandas as pd\n",
    "import matplotlib.pyplot as plt\n",
    "%matplotlib inline"
   ]
  },
  {
   "cell_type": "code",
   "execution_count": 3,
   "metadata": {},
   "outputs": [],
   "source": [
    "filepath = os.sep.join(data_path + ['carbon_nanotubes.csv'])\n",
    "data = pd.read_csv(filepath, sep = \";\")"
   ]
  },
  {
   "cell_type": "code",
   "execution_count": 4,
   "metadata": {},
   "outputs": [
    {
     "data": {
      "text/html": [
       "<div>\n",
       "<style scoped>\n",
       "    .dataframe tbody tr th:only-of-type {\n",
       "        vertical-align: middle;\n",
       "    }\n",
       "\n",
       "    .dataframe tbody tr th {\n",
       "        vertical-align: top;\n",
       "    }\n",
       "\n",
       "    .dataframe thead th {\n",
       "        text-align: right;\n",
       "    }\n",
       "</style>\n",
       "<table border=\"1\" class=\"dataframe\">\n",
       "  <thead>\n",
       "    <tr style=\"text-align: right;\">\n",
       "      <th></th>\n",
       "      <th>Chiral indice n</th>\n",
       "      <th>Chiral indice m</th>\n",
       "      <th>Initial atomic coordinate u</th>\n",
       "      <th>Initial atomic coordinate v</th>\n",
       "      <th>Initial atomic coordinate w</th>\n",
       "      <th>Calculated atomic coordinates u'</th>\n",
       "      <th>Calculated atomic coordinates v'</th>\n",
       "      <th>Calculated atomic coordinates w'</th>\n",
       "    </tr>\n",
       "  </thead>\n",
       "  <tbody>\n",
       "    <tr>\n",
       "      <th>0</th>\n",
       "      <td>2</td>\n",
       "      <td>1</td>\n",
       "      <td>0,679005</td>\n",
       "      <td>0,701318</td>\n",
       "      <td>0,017033</td>\n",
       "      <td>0,721039</td>\n",
       "      <td>0,730232</td>\n",
       "      <td>0,017014</td>\n",
       "    </tr>\n",
       "    <tr>\n",
       "      <th>1</th>\n",
       "      <td>2</td>\n",
       "      <td>1</td>\n",
       "      <td>0,717298</td>\n",
       "      <td>0,642129</td>\n",
       "      <td>0,231319</td>\n",
       "      <td>0,738414</td>\n",
       "      <td>0,65675</td>\n",
       "      <td>0,232369</td>\n",
       "    </tr>\n",
       "    <tr>\n",
       "      <th>2</th>\n",
       "      <td>2</td>\n",
       "      <td>1</td>\n",
       "      <td>0,489336</td>\n",
       "      <td>0,303751</td>\n",
       "      <td>0,088462</td>\n",
       "      <td>0,477676</td>\n",
       "      <td>0,263221</td>\n",
       "      <td>0,088712</td>\n",
       "    </tr>\n",
       "    <tr>\n",
       "      <th>3</th>\n",
       "      <td>2</td>\n",
       "      <td>1</td>\n",
       "      <td>0,413957</td>\n",
       "      <td>0,632996</td>\n",
       "      <td>0,040843</td>\n",
       "      <td>0,408823</td>\n",
       "      <td>0,657897</td>\n",
       "      <td>0,039796</td>\n",
       "    </tr>\n",
       "    <tr>\n",
       "      <th>4</th>\n",
       "      <td>2</td>\n",
       "      <td>1</td>\n",
       "      <td>0,334292</td>\n",
       "      <td>0,543401</td>\n",
       "      <td>0,15989</td>\n",
       "      <td>0,303349</td>\n",
       "      <td>0,558807</td>\n",
       "      <td>0,157373</td>\n",
       "    </tr>\n",
       "  </tbody>\n",
       "</table>\n",
       "</div>"
      ],
      "text/plain": [
       "   Chiral indice n  Chiral indice m Initial atomic coordinate u  \\\n",
       "0                2                1                    0,679005   \n",
       "1                2                1                    0,717298   \n",
       "2                2                1                    0,489336   \n",
       "3                2                1                    0,413957   \n",
       "4                2                1                    0,334292   \n",
       "\n",
       "  Initial atomic coordinate v Initial atomic coordinate w  \\\n",
       "0                    0,701318                    0,017033   \n",
       "1                    0,642129                    0,231319   \n",
       "2                    0,303751                    0,088462   \n",
       "3                    0,632996                    0,040843   \n",
       "4                    0,543401                     0,15989   \n",
       "\n",
       "  Calculated atomic coordinates u' Calculated atomic coordinates v'  \\\n",
       "0                         0,721039                         0,730232   \n",
       "1                         0,738414                          0,65675   \n",
       "2                         0,477676                         0,263221   \n",
       "3                         0,408823                         0,657897   \n",
       "4                         0,303349                         0,558807   \n",
       "\n",
       "  Calculated atomic coordinates w'  \n",
       "0                         0,017014  \n",
       "1                         0,232369  \n",
       "2                         0,088712  \n",
       "3                         0,039796  \n",
       "4                         0,157373  "
      ]
     },
     "execution_count": 4,
     "metadata": {},
     "output_type": "execute_result"
    }
   ],
   "source": [
    "data.head()"
   ]
  },
  {
   "cell_type": "code",
   "execution_count": 5,
   "metadata": {},
   "outputs": [
    {
     "name": "stdout",
     "output_type": "stream",
     "text": [
      "<class 'pandas.core.frame.DataFrame'>\n",
      "RangeIndex: 10721 entries, 0 to 10720\n",
      "Data columns (total 8 columns):\n",
      " #   Column                            Non-Null Count  Dtype \n",
      "---  ------                            --------------  ----- \n",
      " 0   Chiral indice n                   10721 non-null  int64 \n",
      " 1   Chiral indice m                   10721 non-null  int64 \n",
      " 2   Initial atomic coordinate u       10721 non-null  object\n",
      " 3   Initial atomic coordinate v       10721 non-null  object\n",
      " 4   Initial atomic coordinate w       10721 non-null  object\n",
      " 5   Calculated atomic coordinates u'  10721 non-null  object\n",
      " 6   Calculated atomic coordinates v'  10721 non-null  object\n",
      " 7   Calculated atomic coordinates w'  10721 non-null  object\n",
      "dtypes: int64(2), object(6)\n",
      "memory usage: 670.2+ KB\n"
     ]
    }
   ],
   "source": [
    "data.info()"
   ]
  },
  {
   "cell_type": "code",
   "execution_count": null,
   "metadata": {},
   "outputs": [],
   "source": []
  }
 ],
 "metadata": {
  "interpreter": {
   "hash": "f799ab71a28d25411aad9942019c38ef2d018c304ced919ffe772a05abffb7fe"
  },
  "kernelspec": {
   "display_name": "Python 3.8.12 64-bit ('tensorflow': conda)",
   "language": "python",
   "name": "python3"
  },
  "language_info": {
   "codemirror_mode": {
    "name": "ipython",
    "version": 3
   },
   "file_extension": ".py",
   "mimetype": "text/x-python",
   "name": "python",
   "nbconvert_exporter": "python",
   "pygments_lexer": "ipython3",
   "version": "3.8.12"
  },
  "orig_nbformat": 4
 },
 "nbformat": 4,
 "nbformat_minor": 2
}
